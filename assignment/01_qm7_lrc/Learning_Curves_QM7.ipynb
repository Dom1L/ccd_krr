{
 "cells": [
  {
   "cell_type": "markdown",
   "metadata": {},
   "source": [
    "# Learning PBE0/def2-TZVP atomization energies of molecules in QM7"
   ]
  },
  {
   "cell_type": "code",
   "execution_count": 1,
   "metadata": {},
   "outputs": [],
   "source": [
    "from glob import glob\n",
    "\n",
    "import numpy as np\n",
    "import matplotlib.pyplot as plt\n",
    "\n",
    "import krr"
   ]
  },
  {
   "cell_type": "markdown",
   "metadata": {},
   "source": [
    "Define paths etc."
   ]
  },
  {
   "cell_type": "code",
   "execution_count": 2,
   "metadata": {},
   "outputs": [],
   "source": [
    "qm7_path = krr.qm7_path()\n",
    "qm7_xyz_path = sorted(glob(f'{qm7_path}/xyz/*.xyz'))\n",
    "qm7_energy_path = f'{qm7_path}/energies.txt'"
   ]
  },
  {
   "cell_type": "markdown",
   "metadata": {},
   "source": [
    "Initialize the compound class which loads the molecules and calculates the coulomb matrix"
   ]
  },
  {
   "cell_type": "code",
   "execution_count": 3,
   "metadata": {},
   "outputs": [
    {
     "data": {
      "application/vnd.jupyter.widget-view+json": {
       "model_id": "339601c8594649288faddb5ab1624258",
       "version_major": 2,
       "version_minor": 0
      },
      "text/plain": [
       "HBox(children=(FloatProgress(value=0.0, max=7101.0), HTML(value='')))"
      ]
     },
     "metadata": {},
     "output_type": "display_data"
    },
    {
     "name": "stdout",
     "output_type": "stream",
     "text": [
      "\n"
     ]
    }
   ],
   "source": [
    "qm7_mols = krr.Compound(qm7_xyz_path)"
   ]
  },
  {
   "cell_type": "markdown",
   "metadata": {},
   "source": [
    "Retrieve representation (padded with zeros) and energies"
   ]
  },
  {
   "cell_type": "code",
   "execution_count": 4,
   "metadata": {},
   "outputs": [],
   "source": [
    "representations = qm7_mols.get_representation()\n",
    "labels = qm7_mols.get_labels(qm7_energy_path)"
   ]
  },
  {
   "cell_type": "markdown",
   "metadata": {},
   "source": [
    "## Define hyperparameters\n",
    "If sigma is None, it is calculated automatically during training such that all kernel values are\n",
    "scaled between 1/2 and 1"
   ]
  },
  {
   "cell_type": "code",
   "execution_count": 5,
   "metadata": {},
   "outputs": [],
   "source": [
    "# Hyperparameters\n",
    "train_sigma = None # Determined during calculation\n",
    "train_lambda = 1e-5\n",
    "random_seed = 1337\n",
    "learning_curve_subsets = [100, 200, 400, 800, 1000, 2000, 4971]"
   ]
  },
  {
   "cell_type": "code",
   "execution_count": 6,
   "metadata": {},
   "outputs": [],
   "source": [
    "training_features, training_labels, testing_features, testing_labels = krr.split_data(representations,\n",
    "                                                                                      labels, \n",
    "                                                                                      seed=random_seed, \n",
    "                                                                                      train_size=0.7)"
   ]
  },
  {
   "cell_type": "markdown",
   "metadata": {},
   "source": [
    "## Training\n",
    "Train a machine for every subset given and return the mean absolute error (MAE) for the test set"
   ]
  },
  {
   "cell_type": "code",
   "execution_count": 7,
   "metadata": {},
   "outputs": [
    {
     "data": {
      "application/vnd.jupyter.widget-view+json": {
       "model_id": "20e752151c234b14816616b9b66dc2d9",
       "version_major": 2,
       "version_minor": 0
      },
      "text/plain": [
       "HBox(children=(FloatProgress(value=0.0, max=7.0), HTML(value='')))"
      ]
     },
     "metadata": {},
     "output_type": "display_data"
    },
    {
     "name": "stdout",
     "output_type": "stream",
     "text": [
      "\n"
     ]
    }
   ],
   "source": [
    "mae = krr.learning_curve(learning_curve_subsets, \n",
    "                     training_features, \n",
    "                     training_labels, \n",
    "                     testing_features, \n",
    "                     testing_labels,\n",
    "                     train_sigma, \n",
    "                     train_lambda)"
   ]
  },
  {
   "cell_type": "code",
   "execution_count": 8,
   "metadata": {},
   "outputs": [
    {
     "data": {
      "text/plain": [
       "[52.02420440033404,\n",
       " 31.242186444602126,\n",
       " 23.540724767519684,\n",
       " 18.52261060140134,\n",
       " 16.704726995737605,\n",
       " 11.00932392947065,\n",
       " 7.267158979459688]"
      ]
     },
     "execution_count": 8,
     "metadata": {},
     "output_type": "execute_result"
    }
   ],
   "source": [
    "mae"
   ]
  },
  {
   "cell_type": "markdown",
   "metadata": {},
   "source": [
    "## Learning Curve\n",
    "If training was successfull and without any bugs, the MAE against the number of training \n",
    "samples should be linear on a log/log scale."
   ]
  },
  {
   "cell_type": "code",
   "execution_count": 9,
   "metadata": {},
   "outputs": [
    {
     "data": {
      "image/png": "[encoded data removed]",
      "text/plain": [
       "<Figure size 432x288 with 1 Axes>"
      ]
     },
     "metadata": {
      "needs_background": "light"
     },
     "output_type": "display_data"
    }
   ],
   "source": [
    "from matplotlib.ticker import ScalarFormatter\n",
    "\n",
    "fig, ax = plt.subplots()\n",
    "ax.plot(learning_curve_subsets, mae, 'kx', label='$\\lambda$=1e-5, $\\sigma$=Kernel-Scaling')\n",
    "ax.plot(learning_curve_subsets, mae, 'k-')\n",
    "ax.axhline(y=1, color='k', linestyle='--', label='Chemical Accuracy')\n",
    "ax.annotate('7.2 kcal/mol', (2700, 5))\n",
    "ax.loglog()\n",
    "ax.xaxis.set_ticks([100, 500, 1000, 2000, 5000])\n",
    "ax.yaxis.set_ticks([1, 5, 10, 20, 50])\n",
    "for axis in [ax.xaxis, ax.yaxis]:\n",
    "    axis.set_major_formatter(ScalarFormatter())\n",
    "plt.xlabel('Number of Samples')\n",
    "plt.ylabel('MAE [kcal/mol]')\n",
    "plt.legend()\n",
    "plt.title('QM7 atomization energies, KRR, Coulomb Matrix, Laplacian Kernel')\n",
    "plt.savefig('lrc_qm7_DLemm.png', format='png', dpi=1200)\n",
    "plt.show()"
   ]
  },
  {
   "cell_type": "code",
   "execution_count": null,
   "metadata": {},
   "outputs": [],
   "source": []
  }
 ],
 "metadata": {
  "kernelspec": {
   "display_name": "Python 3",
   "language": "python",
   "name": "python3"
  },
  "language_info": {
   "codemirror_mode": {
    "name": "ipython",
    "version": 3
   },
   "file_extension": ".py",
   "mimetype": "text/x-python",
   "name": "python",
   "nbconvert_exporter": "python",
   "pygments_lexer": "ipython3",
   "version": "3.7.6"
  }
 },
 "nbformat": 4,
 "nbformat_minor": 4
}
