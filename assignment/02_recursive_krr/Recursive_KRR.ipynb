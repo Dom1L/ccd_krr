{
 "cells": [
  {
   "cell_type": "code",
   "execution_count": 1,
   "metadata": {
    "scrolled": true
   },
   "outputs": [],
   "source": [
    "import numpy as np\n",
    "import matplotlib.pyplot as plt\n",
    "from scipy.optimize import minimize\n",
    "import random\n",
    "\n",
    "from krr import rkernel_training\n",
    "\n",
    "%matplotlib inline"
   ]
  },
  {
   "cell_type": "code",
   "execution_count": 2,
   "metadata": {
    "scrolled": true
   },
   "outputs": [],
   "source": [
    "def exp_function(x):\n",
    "    return np.exp(x)"
   ]
  },
  {
   "cell_type": "code",
   "execution_count": 3,
   "metadata": {
    "scrolled": true
   },
   "outputs": [],
   "source": [
    "x_data_uniform = np.linspace(-1, 2.8, 10)"
   ]
  },
  {
   "cell_type": "code",
   "execution_count": 38,
   "metadata": {
    "scrolled": true
   },
   "outputs": [
    {
     "data": {
      "image/png": "[encoded data removed]",
      "text/plain": [
       "<Figure size 432x288 with 1 Axes>"
      ]
     },
     "metadata": {
      "needs_background": "light"
     },
     "output_type": "display_data"
    }
   ],
   "source": [
    "plt.plot(x_data_uniform, exp_function(x_data_uniform))\n",
    "plt.xlabel('x')\n",
    "plt.ylabel('$e^x$')\n",
    "plt.savefig('exp.png', dpi=300)"
   ]
  },
  {
   "cell_type": "code",
   "execution_count": 5,
   "metadata": {
    "scrolled": true
   },
   "outputs": [],
   "source": [
    "def recursive_representation(x_train, y_train, x_d, y_d):\n",
    "    return np.hstack((x_train, x_d)), np.hstack((y_train, y_d))"
   ]
  },
  {
   "cell_type": "code",
   "execution_count": 46,
   "metadata": {},
   "outputs": [],
   "source": [
    "def recursive_training(initial_xdata, iterations=9):\n",
    "    x_data = initial_xdata\n",
    "    y_data = exp_function(x_data)\n",
    "    lr_curve = []\n",
    "    data_size = []\n",
    "    for i in range(iterations):\n",
    "        y_pred, y_train_dp, new_train_data = rkernel_training(x_train=x_data, \n",
    "                                                        y_train=y_data, \n",
    "                                                        x_test=test_data, \n",
    "                                                        y_test=exp_function(test_data),\n",
    "                                                        train_sigma=None, \n",
    "                                                        train_lambda=1e-5,\n",
    "                                                        rndm=np.random.uniform(-2, 3.5, y_data.shape))\n",
    "        lr_curve.append(np.abs(y_pred-exp_function(test_data)))\n",
    "        data_size.append(y_data.shape)\n",
    "        x_data, y_data = recursive_representation(x_data, y_data, new_train_data, y_train_dp)\n",
    "        print(f'Datasize {y_data.shape}')\n",
    "    return x_data, y_data, y_pred, lr_curve, data_size\n",
    "\n",
    "def min_training(new_train_data):\n",
    "    x_data = x_data_uniform\n",
    "    y_data = exp_function(x_data)\n",
    "    y_pred, y_train_dp, _ = rkernel_training(x_train=x_data, \n",
    "                                                    y_train=y_data, \n",
    "                                                    x_test=test_data, \n",
    "                                                    y_test=exp_function(test_data),\n",
    "                                                    train_sigma=None, \n",
    "                                                    train_lambda=1e-5,\n",
    "                                                    rndm=np.random.uniform(-2, 3.5, y_data.shape))\n",
    "    x_data, y_data = recursive_representation(x_data, y_data, new_train_data, y_train_dp)\n",
    "    print(f'Datasize {y_data.shape}')\n",
    "    return np.abs(y_pred-exp_function(test_data))"
   ]
  },
  {
   "cell_type": "code",
   "execution_count": 27,
   "metadata": {},
   "outputs": [],
   "source": [
    "test_data = np.array([3,])"
   ]
  },
  {
   "cell_type": "code",
   "execution_count": 11,
   "metadata": {},
   "outputs": [
    {
     "name": "stdout",
     "output_type": "stream",
     "text": [
      "Train MAE: 1.991740106177531e-14\n",
      "Test MAE: 4.230439676497255\n",
      "Datasize (20,)\n",
      "Train MAE: 1.991740106177531e-14\n",
      "Test MAE: 4.230439676497255\n",
      "Datasize (20,)\n",
      "Train MAE: 1.991740106177531e-14\n",
      "Test MAE: 4.230439676497255\n",
      "Datasize (20,)\n",
      "Train MAE: 1.991740106177531e-14\n",
      "Test MAE: 4.230439676497255\n",
      "Datasize (20,)\n",
      "Train MAE: 1.991740106177531e-14\n",
      "Test MAE: 4.230439676497255\n",
      "Datasize (20,)\n",
      "Train MAE: 1.991740106177531e-14\n",
      "Test MAE: 4.230439676497255\n",
      "Datasize (20,)\n",
      "Train MAE: 1.991740106177531e-14\n",
      "Test MAE: 4.230439676497255\n",
      "Datasize (20,)\n",
      "Train MAE: 1.991740106177531e-14\n",
      "Test MAE: 4.230439676497255\n",
      "Datasize (20,)\n",
      "Train MAE: 1.991740106177531e-14\n",
      "Test MAE: 4.230439676497255\n",
      "Datasize (20,)\n",
      "Train MAE: 1.991740106177531e-14\n",
      "Test MAE: 4.230439676497255\n",
      "Datasize (20,)\n",
      "Train MAE: 1.991740106177531e-14\n",
      "Test MAE: 4.230439676497255\n",
      "Datasize (20,)\n",
      "Train MAE: 1.991740106177531e-14\n",
      "Test MAE: 4.230439676497255\n",
      "Datasize (20,)\n"
     ]
    },
    {
     "data": {
      "text/plain": [
       "      fun: array([4.23043968])\n",
       " hess_inv: array([[1, 0, 0, 0, 0, 0, 0, 0, 0, 0],\n",
       "       [0, 1, 0, 0, 0, 0, 0, 0, 0, 0],\n",
       "       [0, 0, 1, 0, 0, 0, 0, 0, 0, 0],\n",
       "       [0, 0, 0, 1, 0, 0, 0, 0, 0, 0],\n",
       "       [0, 0, 0, 0, 1, 0, 0, 0, 0, 0],\n",
       "       [0, 0, 0, 0, 0, 1, 0, 0, 0, 0],\n",
       "       [0, 0, 0, 0, 0, 0, 1, 0, 0, 0],\n",
       "       [0, 0, 0, 0, 0, 0, 0, 1, 0, 0],\n",
       "       [0, 0, 0, 0, 0, 0, 0, 0, 1, 0],\n",
       "       [0, 0, 0, 0, 0, 0, 0, 0, 0, 1]])\n",
       "      jac: array([0., 0., 0., 0., 0., 0., 0., 0., 0., 0.])\n",
       "  message: 'Optimization terminated successfully.'\n",
       "     nfev: 12\n",
       "      nit: 0\n",
       "     njev: 1\n",
       "   status: 0\n",
       "  success: True\n",
       "        x: array([-1.43333939, -1.01111717, -0.58889495, -0.16667273,  0.2555495 ,\n",
       "        0.67777172,  1.09999394,  1.52221616,  1.94443839,  2.36666061])"
      ]
     },
     "execution_count": 11,
     "metadata": {},
     "output_type": "execute_result"
    }
   ],
   "source": [
    "minimize(min_training, x0=x_data_uniform-random.uniform(0, 0.5))"
   ]
  },
  {
   "cell_type": "code",
   "execution_count": 47,
   "metadata": {},
   "outputs": [
    {
     "name": "stdout",
     "output_type": "stream",
     "text": [
      "Train MAE: 1.991740106177531e-14\n",
      "Test MAE: 4.230439676497255\n",
      "Datasize (20,)\n",
      "Train MAE: 7.610578833805448e-14\n",
      "Test MAE: 4.150197002936057\n",
      "Datasize (40,)\n",
      "Train MAE: 3.0618674262683497e-12\n",
      "Test MAE: 4.149456329233146\n",
      "Datasize (80,)\n",
      "Train MAE: 1.939068627887508e-11\n",
      "Test MAE: 4.149374710266905\n",
      "Datasize (160,)\n",
      "Train MAE: 7.785273814508997e-12\n",
      "Test MAE: 4.14937471025997\n",
      "Datasize (320,)\n",
      "Train MAE: 2.5929533450930186e-10\n",
      "Test MAE: 4.149374710606775\n",
      "Datasize (640,)\n",
      "Train MAE: 2.6063026424549827e-10\n",
      "Test MAE: 4.149374680973228\n",
      "Datasize (1280,)\n",
      "Train MAE: 1.9628026244264407e-09\n",
      "Test MAE: 4.149374681220454\n",
      "Datasize (2560,)\n",
      "Train MAE: 2.9997366691320024e-10\n",
      "Test MAE: 4.1493746798636835\n",
      "Datasize (5120,)\n"
     ]
    }
   ],
   "source": [
    "x,y, pred, lr_curve, data_size = recursive_training(x_data_uniform)"
   ]
  },
  {
   "cell_type": "code",
   "execution_count": 48,
   "metadata": {},
   "outputs": [
    {
     "data": {
      "image/png": "[encoded data removed]",
      "text/plain": [
       "<Figure size 432x288 with 1 Axes>"
      ]
     },
     "metadata": {
      "needs_background": "light"
     },
     "output_type": "display_data"
    }
   ],
   "source": [
    "plt.plot(x,y, 'b.', alpha=0.01, label='Sampled Points')\n",
    "plt.plot(x_data_uniform, exp_function(x_data_uniform), 'gx', label='Training Points')\n",
    "plt.plot(test_data, pred, 'kx', label='Test Point Predicted')\n",
    "plt.plot(test_data, exp_function(test_data), 'rx',label ='Test Point Truth')\n",
    "plt.legend()\n",
    "plt.savefig('exp_-1_35.png', dpi=300)"
   ]
  },
  {
   "cell_type": "code",
   "execution_count": 51,
   "metadata": {},
   "outputs": [
    {
     "data": {
      "image/png": "[encoded data removed]",
      "text/plain": [
       "<Figure size 432x288 with 1 Axes>"
      ]
     },
     "metadata": {
      "needs_background": "light"
     },
     "output_type": "display_data"
    }
   ],
   "source": [
    "plt.plot(ds100, lrc100, label='A) Sampled -100 to 2.8')\n",
    "plt.plot(ds1, lrc1, label='B) Sampled -1 to 2.8')\n",
    "plt.plot(data_size, lr_curve, label='C) Sampled -1 to 3.5')\n",
    "plt.loglog()\n",
    "plt.xlabel('Dataset Size')\n",
    "plt.ylabel('Absolute Error')\n",
    "plt.legend()\n",
    "plt.tight_layout()\n",
    "plt.savefig('learning_curve.png', dpi=300)"
   ]
  },
  {
   "cell_type": "code",
   "execution_count": 21,
   "metadata": {},
   "outputs": [],
   "source": [
    "lrc100, ds100 = lr_curve, data_size"
   ]
  },
  {
   "cell_type": "code",
   "execution_count": 43,
   "metadata": {},
   "outputs": [],
   "source": [
    "lrc1, ds1 = lr_curve, data_size"
   ]
  },
  {
   "cell_type": "code",
   "execution_count": null,
   "metadata": {},
   "outputs": [],
   "source": []
  }
 ],
 "metadata": {
  "kernelspec": {
   "display_name": "Python 3",
   "language": "python",
   "name": "python3"
  },
  "language_info": {
   "codemirror_mode": {
    "name": "ipython",
    "version": 3
   },
   "file_extension": ".py",
   "mimetype": "text/x-python",
   "name": "python",
   "nbconvert_exporter": "python",
   "pygments_lexer": "ipython3",
   "version": "3.7.6"
  }
 },
 "nbformat": 4,
 "nbformat_minor": 4
}
